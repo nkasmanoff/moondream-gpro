{
  "cells": [
    {
      "cell_type": "markdown",
      "metadata": {},
      "source": [
        "# TODO:\n",
        "\n",
        "Take all the changes in model.py and export to standalone functions for now.\n",
        "\n",
        "Once that's ready, load the model from huggingface to see if it can handle this."
      ]
    },
    {
      "cell_type": "code",
      "execution_count": null,
      "metadata": {},
      "outputs": [],
      "source": [
        "from transformers import AutoModelForCausalLM, AutoTokenizer\n",
        "from PIL import Image\n",
        "import numpy as np\n",
        "import torch\n",
        "from torch.optim import AdamW\n",
        "from visualization_utils import plot_sample, plot_prediction\n",
        "from moondream_functions import detect, detect_grad\n",
        "from dataset import load_object_detection_dataset\n",
        "from moondream_cache import setup_caches\n",
        "from rl_utils import calculate_reward\n",
        "from moondream import MoondreamModel, MoondreamConfig\n",
        "from safetensors.torch import load_file\n",
        "from rl_utils import calculate_gpro_loss\n",
        "\n",
        "\n",
        "BATCH_SIZE = 4\n",
        "NUM_ROLLOUTS = 6\n",
        "safetensors_path = \"model.safetensors\"\n",
        "device = \"mps\"\n",
        "\n",
        "torch.autograd.set_detect_anomaly(True)\n"
      ]
    },
    {
      "cell_type": "code",
      "execution_count": null,
      "metadata": {},
      "outputs": [],
      "source": [
        "model = MoondreamModel(config=MoondreamConfig)\n",
        "state_dict = load_file(safetensors_path)\n",
        "model.load_state_dict(state_dict)\n",
        "model.to(device)\n",
        "\n",
        "optimizer = AdamW(model.region.parameters(), lr=1e-4)\n",
        "\n",
        "num_params = sum(p.numel() for p in model.region.parameters())\n",
        "print(f\"Number of parameters: {num_params:,}\")\n",
        "\n",
        "train_ds = load_object_detection_dataset(\"train\")\n"
      ]
    },
    {
      "cell_type": "code",
      "execution_count": null,
      "metadata": {},
      "outputs": [],
      "source": [
        "\n",
        "\n",
        "sample = train_ds[0]\n",
        "\n",
        "plot_sample(sample)\n"
      ]
    },
    {
      "cell_type": "markdown",
      "metadata": {},
      "source": [
        "# Data collection"
      ]
    },
    {
      "cell_type": "code",
      "execution_count": null,
      "metadata": {},
      "outputs": [],
      "source": [
        "\n",
        "def collect_experience(train_ds, model):\n",
        "    experience = []\n",
        "    for i in range(BATCH_SIZE):\n",
        "        sample = train_ds[i]\n",
        "\n",
        "        trajectory_detections = []\n",
        "\n",
        "        for _ in range(NUM_ROLLOUTS):\n",
        "            detections = detect(model, sample[0], sample[1], None, temperature=1)\n",
        "            trajectory_detections.append(detections)\n",
        "\n",
        "        rewards = calculate_reward(trajectory_detections, sample)\n",
        "\n",
        "        advantages = rewards - np.mean(rewards)\n",
        "\n",
        "        advantages = advantages / np.std(advantages)\n",
        "\n",
        "        advantages = torch.tensor(advantages, dtype=torch.float32).to(model.device)\n",
        "        advantages = advantages.unsqueeze(1)\n",
        "\n",
        "        group_experience = []\n",
        "        for trajectory in trajectory_detections:\n",
        "            predictions = trajectory[\"objects\"]\n",
        "            advantage = advantages[i]\n",
        "            logprobs = []\n",
        "            for obj in predictions:\n",
        "                x_logprob = obj[\"x_logprob\"]\n",
        "                y_logprob = obj[\"y_logprob\"]\n",
        "                w_logprob = obj[\"w_logprob\"]\n",
        "                h_logprob = obj[\"h_logprob\"]\n",
        "                logprobs.extend([x_logprob, y_logprob, w_logprob, h_logprob])\n",
        "\n",
        "            # convert logits list to tensor\n",
        "            logprobs = torch.tensor(logprobs, dtype=torch.float32).to(model.device)\n",
        "            group_experience.append({\"logprobs\": logprobs, \"advantage\": advantage})\n",
        "        experience.extend(group_experience)\n",
        "\n",
        "    return experience, trajectory_detections\n",
        "\n",
        "with torch.no_grad():\n",
        "    experience, trajectory_detections = collect_experience(train_ds, model)\n"
      ]
    },
    {
      "cell_type": "code",
      "execution_count": null,
      "metadata": {},
      "outputs": [],
      "source": [
        "from visualization_utils import plot_sample, plot_prediction\n",
        "\n",
        "sample = train_ds[0]\n",
        "plot_prediction(trajectory_detections[0], sample)"
      ]
    },
    {
      "cell_type": "markdown",
      "metadata": {},
      "source": [
        "# Training Step"
      ]
    },
    {
      "cell_type": "code",
      "execution_count": null,
      "metadata": {},
      "outputs": [],
      "source": [
        "\n",
        "\n",
        "def train_step(experience, model, optimizer, train_ds):\n",
        "\n",
        "    optimizer.zero_grad()\n",
        "    total_loss = 0\n",
        "\n",
        "    for i in range(BATCH_SIZE):\n",
        "        sample = train_ds[i]\n",
        "\n",
        "        new_predictions = detect_grad(model, sample[0], sample[1], None, temperature=0)\n",
        "        new_logprobs = torch.stack(new_predictions[\"out_logprobs\"]).reshape(\n",
        "            -1, len(new_predictions[\"out_logprobs\"])\n",
        "        )\n",
        "\n",
        "        old_logprobs_stack = []  # the prior log probs for the same corresponding sample\n",
        "        advantages_stack = []\n",
        "        # truncate experience to only be for this sample\n",
        "        trajectory_experience = experience[i * NUM_ROLLOUTS : (i + 1) * NUM_ROLLOUTS]\n",
        "\n",
        "        attention_mask = torch.ones(\n",
        "            len(trajectory_experience),\n",
        "            new_logprobs.shape[-1],\n",
        "            device=model.device,\n",
        "        )\n",
        "\n",
        "        for j in range(len(trajectory_experience)):\n",
        "\n",
        "            # todo add padding and some kind of masking during gradient calculation\n",
        "            group_experience_logprobs = trajectory_experience[j][\"logprobs\"]\n",
        "            orig_len = len(group_experience_logprobs)\n",
        "            # pad right with 0s to match new_logprobs.shape[-1]\n",
        "            if orig_len < new_logprobs.shape[-1]:\n",
        "                group_experience_logprobs = torch.cat(\n",
        "                    [\n",
        "                        group_experience_logprobs,\n",
        "                        torch.zeros(\n",
        "                            new_logprobs.shape[-1] - orig_len, device=model.device\n",
        "                        ),\n",
        "                    ]\n",
        "                )\n",
        "                # set attention mask to 0 for the padded tokens\n",
        "                attention_mask[j, orig_len:] = 0\n",
        "            elif orig_len > new_logprobs.shape[-1]:\n",
        "                group_experience_logprobs = group_experience_logprobs[\n",
        "                    : new_logprobs.shape[-1]\n",
        "                ]  # truncate\n",
        "            old_logprobs_stack.append(group_experience_logprobs)\n",
        "            advantages_stack.append(trajectory_experience[j][\"advantage\"])\n",
        "\n",
        "        advantages = torch.stack(advantages_stack)\n",
        "        old_logprobs = torch.stack(old_logprobs_stack)\n",
        "\n",
        "        gpro_loss = calculate_gpro_loss(\n",
        "            new_logprobs, old_logprobs, advantages, attention_mask\n",
        "        )\n",
        "        total_loss += gpro_loss\n",
        "\n",
        "    if BATCH_SIZE > 0:\n",
        "        print(\"Loss: \", total_loss.item())\n",
        "        final_loss = total_loss / BATCH_SIZE\n",
        "        final_loss.backward()\n",
        "        optimizer.step()\n",
        "\n",
        "    return final_loss, new_predictions"
      ]
    },
    {
      "cell_type": "code",
      "execution_count": null,
      "metadata": {},
      "outputs": [],
      "source": [
        "loss, new_predictions = train_step(experience, model, optimizer, train_ds)"
      ]
    },
    {
      "cell_type": "code",
      "execution_count": null,
      "metadata": {},
      "outputs": [],
      "source": [
        "plot_prediction(new_predictions, sample)"
      ]
    },
    {
      "cell_type": "code",
      "execution_count": null,
      "metadata": {},
      "outputs": [],
      "source": [
        "loss, new_predictions = train_step(experience, model, optimizer, train_ds)"
      ]
    },
    {
      "cell_type": "code",
      "execution_count": null,
      "metadata": {},
      "outputs": [],
      "source": [
        "loss, new_predictions = train_step(experience, model, optimizer, train_ds)"
      ]
    },
    {
      "cell_type": "code",
      "execution_count": null,
      "metadata": {},
      "outputs": [],
      "source": [
        "idx = 0\n",
        "new_sample = train_ds[idx]\n",
        "inference_predictions = detect(model, new_sample[0], new_sample[1], None, temperature=0)\n",
        "\n",
        "plot_prediction(inference_predictions, new_sample)"
      ]
    },
    {
      "cell_type": "code",
      "execution_count": null,
      "metadata": {},
      "outputs": [],
      "source": [
        "plot_sample(train_ds[1])"
      ]
    },
    {
      "cell_type": "code",
      "execution_count": null,
      "metadata": {},
      "outputs": [],
      "source": [
        "# save model safetensors\n",
        "\n",
        "from safetensors.torch import save_file\n",
        "\n",
        "save_file(\n",
        "    model.state_dict(),\n",
        "    \"moondream_finetune.safetensors\",\n",
        ")"
      ]
    },
    {
      "cell_type": "code",
      "execution_count": null,
      "metadata": {},
      "outputs": [],
      "source": [
        "# load model \n",
        "model = MoondreamModel(config=MoondreamConfig)\n",
        "state_dict = load_file(\"moondream_finetune.safetensors\")\n",
        "model.load_state_dict(state_dict)\n",
        "model.to(\"mps\")\n",
        "\n",
        "\n",
        "\n",
        "\n"
      ]
    },
    {
      "cell_type": "code",
      "execution_count": null,
      "metadata": {},
      "outputs": [],
      "source": [
        "idx = 11\n",
        "new_sample = train_ds[idx]\n",
        "inference_predictions = detect(model, new_sample[0], new_sample[1], None, temperature=0)\n",
        "\n",
        "plot_prediction(inference_predictions, new_sample)"
      ]
    },
    {
      "cell_type": "markdown",
      "metadata": {},
      "source": [
        "Since the loss tensor is composed of both positive and negative values (coming from negative and positive advantages, respectively), the final gpro_loss (which is the mean) can be negative if the contributions from the positive-advantage actions are stronger than those from negative-advantage actions in a given batch.\n",
        "\n",
        "Contributions from = higher "
      ]
    }
  ],
  "metadata": {
    "kernelspec": {
      "display_name": "torch_env",
      "language": "python",
      "name": "python3"
    },
    "language_info": {
      "codemirror_mode": {
        "name": "ipython",
        "version": 3
      },
      "file_extension": ".py",
      "mimetype": "text/x-python",
      "name": "python",
      "nbconvert_exporter": "python",
      "pygments_lexer": "ipython3",
      "version": "3.12.11"
    }
  },
  "nbformat": 4,
  "nbformat_minor": 2
}
